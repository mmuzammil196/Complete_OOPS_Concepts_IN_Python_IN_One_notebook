{
  "nbformat": 4,
  "nbformat_minor": 0,
  "metadata": {
    "colab": {
      "provenance": []
    },
    "kernelspec": {
      "name": "python3",
      "display_name": "Python 3"
    },
    "language_info": {
      "name": "python"
    }
  },
  "cells": [
    {
      "cell_type": "markdown",
      "source": [
        "\n",
        "# **Basic OOP Concepts in Python**\n"
      ],
      "metadata": {
        "id": "Hgl4o1gNK4mi"
      }
    },
    {
      "cell_type": "markdown",
      "source": [
        "# **1. Class Atm**"
      ],
      "metadata": {
        "id": "gJP6oQM_B1EW"
      }
    },
    {
      "cell_type": "code",
      "execution_count": null,
      "metadata": {
        "id": "9RmmKj-6s9-v"
      },
      "outputs": [],
      "source": [
        "# Class\n",
        "class Atm:\n",
        "\n",
        "  # constructor , magic method or dunder method\n",
        "  def __init__(self):\n",
        "    # instance variable. those variable for different for different object\n",
        "    self.__pin = \"\"\n",
        "    self.__balance = 0\n",
        "\n",
        "    print(\"Welcome to our Atm Services\")\n",
        "\n",
        "    self.__menu()\n",
        "\n",
        "  def __menu(self):\n",
        "    user_input = input(\"\"\"Hello, How would you like to proceed further ?\n",
        "                        1. Enter 1 to create pin\n",
        "                        2. Enter 2 to deposit\n",
        "                        3. Enter 3 to withdraw\n",
        "                        4. Enter 4 to check balance\n",
        "                        5. Enter 5 to exit \\n\"\"\")\n",
        "    \n",
        "    if user_input == \"1\":\n",
        "      self.create_pin()\n",
        "    \n",
        "    elif user_input == \"2\":\n",
        "      self.deposit()\n",
        "\n",
        "    elif user_input == \"3\":\n",
        "      self.withdraw()\n",
        "\n",
        "    elif user_input == \"4\":\n",
        "      self.check_balance()\n",
        "    \n",
        "    else:\n",
        "      print(\"Thank you for using this Atm\")\n",
        "  \n",
        "  def create_pin(self):\n",
        "      self.__pin = input(\"Enter your Pin : \")\n",
        "      print(\"Pin Set Successfully\")\n",
        "      self.__menu()\n",
        "    \n",
        "  def deposit(self):\n",
        "      temp = input(\"Enter your pin : \")\n",
        "      if temp == self.__pin:\n",
        "        amount = int(input(\"Enter your amount for deposit : \"))\n",
        "        self.__balance = self.__balance + amount\n",
        "        print(\"Deposit Sucessfully in to your account\")\n",
        "      else:\n",
        "        print(\"Invalid pin\")\n",
        "      \n",
        "      self.__menu()\n",
        "    \n",
        "  def withdraw(self):\n",
        "      temp = input(\"Enter your pin : \")\n",
        "      if temp == self.__pin:\n",
        "        amount = int(input(\"Enter your amount for withdraw : \"))\n",
        "        if amount <= self.__balance:\n",
        "          self.__balance = self.__balance - amount\n",
        "          print(\"withdraw Sucessfully from your account\")\n",
        "        else:\n",
        "          (\"Insufficient amount for withdraw\")\n",
        "      else:\n",
        "        print(\"Invalid pin\")\n",
        "      \n",
        "      self.__menu()\n",
        "    \n",
        "  def check_balance(self):\n",
        "      temp = input(\"Enter your pin : \")\n",
        "      if temp == self.__pin:\n",
        "        print(\"Your Balance is : \", self.__balance)\n",
        "      else:\n",
        "        print(\"Invalid pin\")\n",
        "      \n",
        "      self.__menu()\n",
        "\n",
        "    \n"
      ]
    },
    {
      "cell_type": "code",
      "source": [
        "# output of Atm Class\n",
        "haris = Atm()"
      ],
      "metadata": {
        "colab": {
          "base_uri": "https://localhost:8080/"
        },
        "id": "Zd_20IXhvOoe",
        "outputId": "82c6adea-f5bd-4d3c-f86c-f58e3d56cd66"
      },
      "execution_count": null,
      "outputs": [
        {
          "output_type": "stream",
          "name": "stdout",
          "text": [
            "Welcome to our Atm Services\n",
            "Hello, How would you like to proceed further ?\n",
            "                        1. Enter 1 to create pin\n",
            "                        2. Enter 2 to deposit\n",
            "                        3. Enter 3 to withdraw\n",
            "                        4. Enter 4 to check balance\n",
            "                        5. Enter 5 to exit \n",
            "1\n",
            "Enter your Pin : 123\n",
            "Pin Set Successfully\n",
            "Hello, How would you like to proceed further ?\n",
            "                        1. Enter 1 to create pin\n",
            "                        2. Enter 2 to deposit\n",
            "                        3. Enter 3 to withdraw\n",
            "                        4. Enter 4 to check balance\n",
            "                        5. Enter 5 to exit \n",
            "2\n",
            "Enter your pin : 123\n",
            "Enter your amount for deposit : 5000\n",
            "Deposit Sucessfully in to your account\n",
            "Hello, How would you like to proceed further ?\n",
            "                        1. Enter 1 to create pin\n",
            "                        2. Enter 2 to deposit\n",
            "                        3. Enter 3 to withdraw\n",
            "                        4. Enter 4 to check balance\n",
            "                        5. Enter 5 to exit \n",
            "3\n",
            "Enter your pin : 123\n",
            "Enter your amount for withdraw : 2000\n",
            "withdraw Sucessfully from your account\n",
            "Hello, How would you like to proceed further ?\n",
            "                        1. Enter 1 to create pin\n",
            "                        2. Enter 2 to deposit\n",
            "                        3. Enter 3 to withdraw\n",
            "                        4. Enter 4 to check balance\n",
            "                        5. Enter 5 to exit \n",
            "4\n",
            "Enter your pin : 123\n",
            "Your Balance is :  3000\n",
            "Hello, How would you like to proceed further ?\n",
            "                        1. Enter 1 to create pin\n",
            "                        2. Enter 2 to deposit\n",
            "                        3. Enter 3 to withdraw\n",
            "                        4. Enter 4 to check balance\n",
            "                        5. Enter 5 to exit \n",
            "5\n",
            "Thank you for using this Atm\n"
          ]
        }
      ]
    },
    {
      "cell_type": "markdown",
      "source": [
        "# **2. Class Fraction**"
      ],
      "metadata": {
        "id": "5IaIiRKOB_ie"
      }
    },
    {
      "cell_type": "code",
      "source": [
        "class Fraction:\n",
        "\n",
        "  # constructor , magic method __init\n",
        "  def __init__(self, n, d):\n",
        "    self.num = n\n",
        "    self.den = d\n",
        "  \n",
        "  # magic method __str__ for print\n",
        "  def __str__(self):\n",
        "    return \"{}/{}\".format(self.num, self.den)\n",
        "  \n",
        "  # magic method __add__ for addition\n",
        "  def __add__(self, other):\n",
        "    temp_num = self.num * other.den + other.num * self.den\n",
        "    temp_den = self.den * other.num\n",
        "    return \"{}/{}\".format(temp_num, temp_den)\n",
        "\n",
        "   # magic method __sub__ for subtraction\n",
        "  def __sub__(self, other):\n",
        "    temp_num = self.num * other.den - other.num * self.den\n",
        "    temp_den = self.den * other.num\n",
        "    return \"{}/{}\".format(temp_num, temp_den)\n",
        "  \n",
        "   # magic method __mul__ for multiplication\n",
        "  def __mul__(self, other):\n",
        "    temp_num = self.num *  other.num \n",
        "    temp_den = self.den * other.den\n",
        "    return \"{}/{}\".format(temp_num, temp_den)\n",
        "  \n",
        "   # magic method __truediv__ for division\n",
        "  def __truediv__(self, other):\n",
        "    temp_num = self.num * other.den \n",
        "    temp_den = self.den * other.num\n",
        "    return \"{}/{}\".format(temp_num, temp_den)"
      ],
      "metadata": {
        "id": "Vl7k8GufCEqy"
      },
      "execution_count": 64,
      "outputs": []
    },
    {
      "cell_type": "code",
      "source": [
        "# output of class Fraction\n",
        "x = Fraction(3, 4)\n",
        "y = Fraction(5, 6)\n",
        "\n",
        "print(\"x : \", x)\n",
        "print(\"y : \", y)\n",
        "print(\"Fraction Addition is : \", x + y)\n",
        "print(\"Fraction Subtraction is : \", x - y)\n",
        "print(\"Fraction Multiplication is : \", x * y)\n",
        "print(\"Fraction Division is : \", x / y)"
      ],
      "metadata": {
        "colab": {
          "base_uri": "https://localhost:8080/"
        },
        "id": "KvYDu-fPIYfz",
        "outputId": "c05e3047-a734-4285-cc64-f4395fa8e322"
      },
      "execution_count": null,
      "outputs": [
        {
          "output_type": "stream",
          "name": "stdout",
          "text": [
            "x :  3/4\n",
            "y :  5/6\n",
            "Fraction Addition is :  38/20\n",
            "Fraction Subtraction is :  -2/20\n",
            "Fraction Multiplication is :  15/24\n",
            "Fraction Division is :  18/20\n"
          ]
        }
      ]
    },
    {
      "cell_type": "markdown",
      "source": [
        "# **Encapsulation**"
      ],
      "metadata": {
        "id": "o3GeCT45UvkH"
      }
    },
    {
      "cell_type": "code",
      "source": [
        "# Class\n",
        "class Atm:\n",
        "\n",
        "  # constructor , magic method or dunder method\n",
        "  def __init__(self):\n",
        "    # instance variable. those variable for different for different object\n",
        "    self.__pin = \"\"\n",
        "    self.__balance = 0\n",
        "\n",
        "    print(\"Welcome to our Atm Services\")\n",
        "\n",
        "    self.__menu()\n",
        "\n",
        "  # encapsulation getter setter method.\n",
        "  \n",
        "  def get_pin(self):\n",
        "    return self.__pin\n",
        "  \n",
        "  def set_pin(self, new_pin):\n",
        "    if type(new_pin) == str:\n",
        "      self.__pin == new_pin\n",
        "      print(\"Pin Changed\")\n",
        "    else:\n",
        "      print(\"Not Allowed\")\n",
        "\n",
        "  def __menu(self):\n",
        "    user_input = input(\"\"\"Hello, How would you like to proceed further ?\n",
        "                        1. Enter 1 to create pin\n",
        "                        2. Enter 2 to deposit\n",
        "                        3. Enter 3 to withdraw\n",
        "                        4. Enter 4 to check balance\n",
        "                        5. Enter 5 to exit \\n\"\"\")\n",
        "    \n",
        "    if user_input == \"1\":\n",
        "      self.create_pin()\n",
        "    \n",
        "    elif user_input == \"2\":\n",
        "      self.deposit()\n",
        "\n",
        "    elif user_input == \"3\":\n",
        "      self.withdraw()\n",
        "\n",
        "    elif user_input == \"4\":\n",
        "      self.check_balance()\n",
        "    \n",
        "    else:\n",
        "      print(\"Thank you for using this Atm\")\n",
        "  \n",
        "  def create_pin(self):\n",
        "      self.__pin = input(\"Enter your Pin : \")\n",
        "      print(\"Pin Set Successfully\")\n",
        "      self.__menu()\n",
        "    \n",
        "  def deposit(self):\n",
        "      temp = input(\"Enter your pin : \")\n",
        "      if temp == self.__pin:\n",
        "        amount = int(input(\"Enter your amount for deposit : \"))\n",
        "        self.__balance = self.__balance + amount\n",
        "        print(\"Deposit Sucessfully in to your account\")\n",
        "      else:\n",
        "        print(\"Invalid pin\")\n",
        "      \n",
        "      self.__menu()\n",
        "    \n",
        "  def withdraw(self):\n",
        "      temp = input(\"Enter your pin : \")\n",
        "      if temp == self.__pin:\n",
        "        amount = int(input(\"Enter your amount for withdraw : \"))\n",
        "        if amount <= self.__balance:\n",
        "          self.__balance = self.__balance - amount\n",
        "          print(\"withdraw Sucessfully from your account\")\n",
        "        else:\n",
        "          (\"Insufficient amount for withdraw\")\n",
        "      else:\n",
        "        print(\"Invalid pin\")\n",
        "      \n",
        "      self.__menu()\n",
        "    \n",
        "  def check_balance(self):\n",
        "      temp = input(\"Enter your pin : \")\n",
        "      if temp == self.__pin:\n",
        "        print(\"Your Balance is : \", self.__balance)\n",
        "      else:\n",
        "        print(\"Invalid pin\")\n",
        "      \n",
        "      self.__menu()\n",
        "\n",
        "    \n"
      ],
      "metadata": {
        "id": "0ou5VwqCKFLX"
      },
      "execution_count": null,
      "outputs": []
    },
    {
      "cell_type": "code",
      "source": [
        "# encapsulation output : class Atm\n",
        "encap = Atm()\n",
        "encap.set_pin(\"456\")\n",
        "encap.get_pin()"
      ],
      "metadata": {
        "colab": {
          "base_uri": "https://localhost:8080/",
          "height": 235
        },
        "id": "-zPvlwulXN43",
        "outputId": "80d6ff94-b451-4c7b-d12c-fbc1a6a6cb3e"
      },
      "execution_count": null,
      "outputs": [
        {
          "output_type": "stream",
          "name": "stdout",
          "text": [
            "Welcome to our Atm Services\n"
          ]
        },
        {
          "output_type": "error",
          "ename": "AttributeError",
          "evalue": "ignored",
          "traceback": [
            "\u001b[0;31m---------------------------------------------------------------------------\u001b[0m",
            "\u001b[0;31mAttributeError\u001b[0m                            Traceback (most recent call last)",
            "\u001b[0;32m<ipython-input-19-98bbf3fd2b8f>\u001b[0m in \u001b[0;36m<cell line: 3>\u001b[0;34m()\u001b[0m\n\u001b[1;32m      1\u001b[0m \u001b[0;31m# encapsulation output : class Atm\u001b[0m\u001b[0;34m\u001b[0m\u001b[0;34m\u001b[0m\u001b[0m\n\u001b[1;32m      2\u001b[0m \u001b[0mencap\u001b[0m \u001b[0;34m=\u001b[0m \u001b[0mAtm\u001b[0m\u001b[0;34m(\u001b[0m\u001b[0;34m)\u001b[0m\u001b[0;34m\u001b[0m\u001b[0;34m\u001b[0m\u001b[0m\n\u001b[0;32m----> 3\u001b[0;31m \u001b[0mencap\u001b[0m\u001b[0;34m.\u001b[0m\u001b[0mset_pin\u001b[0m\u001b[0;34m(\u001b[0m\u001b[0;34m\"456\"\u001b[0m\u001b[0;34m)\u001b[0m\u001b[0;34m\u001b[0m\u001b[0;34m\u001b[0m\u001b[0m\n\u001b[0m\u001b[1;32m      4\u001b[0m \u001b[0mencap\u001b[0m\u001b[0;34m.\u001b[0m\u001b[0mget_pin\u001b[0m\u001b[0;34m(\u001b[0m\u001b[0;34m)\u001b[0m\u001b[0;34m\u001b[0m\u001b[0;34m\u001b[0m\u001b[0m\n",
            "\u001b[0;31mAttributeError\u001b[0m: 'Atm' object has no attribute 'set_pin'"
          ]
        }
      ]
    },
    {
      "cell_type": "markdown",
      "source": [
        "# **Pass By Reference**"
      ],
      "metadata": {
        "id": "hXiZQg20dz6e"
      }
    },
    {
      "cell_type": "code",
      "source": [
        "class Customer:\n",
        "\n",
        "  def __init__(self, name):\n",
        "    self.name = name\n",
        "\n",
        "def greet(customer):\n",
        "  print(id(customer))\n",
        "  customer.name = \"harry\"\n",
        "  print(customer.name)\n",
        "\n",
        "cust = Customer(\"bhai\")\n",
        "greet(cust)\n",
        "print(id(cust.name))\n",
        "print(cust.name)"
      ],
      "metadata": {
        "colab": {
          "base_uri": "https://localhost:8080/"
        },
        "id": "hHleCeeBXm5Q",
        "outputId": "77407aef-ffdf-460a-b04b-45fd708fc237"
      },
      "execution_count": null,
      "outputs": [
        {
          "output_type": "stream",
          "name": "stdout",
          "text": [
            "140029761043088\n",
            "harry\n",
            "140029761491696\n",
            "harry\n"
          ]
        }
      ]
    },
    {
      "cell_type": "code",
      "source": [
        "class Student:\n",
        "\n",
        "  def __init__(self, name, age):\n",
        "    self.name =  name\n",
        "    self.age = age\n",
        "\n",
        "  def intro(self):\n",
        "    print(\"I am \", self.name, \"and I am \", self.age, \"years old\")\n",
        "\n",
        "std1 = Student(\"Ali\", 25)\n",
        "std2 = Student(\"Ahmed\", 30)\n",
        "student = [std1, std2]\n",
        "\n",
        "for i in student:\n",
        " i.intro()"
      ],
      "metadata": {
        "colab": {
          "base_uri": "https://localhost:8080/"
        },
        "id": "FiYx2RxxgUAr",
        "outputId": "de862298-b4a0-4fdd-b893-f2b3981b974f"
      },
      "execution_count": null,
      "outputs": [
        {
          "output_type": "stream",
          "name": "stdout",
          "text": [
            "I am  Ali and I am  25 years old\n",
            "I am  Ahmed and I am  30 years old\n"
          ]
        }
      ]
    },
    {
      "cell_type": "markdown",
      "source": [
        "# **Static / Instance Variables**"
      ],
      "metadata": {
        "id": "OMwAm2D8Xa4V"
      }
    },
    {
      "cell_type": "code",
      "source": [
        "# Class\n",
        "class Atm:\n",
        "\n",
        "  # static / class variables\n",
        "  counter = 1\n",
        "\n",
        "  # constructor , magic method or dunder method\n",
        "  def __init__(self):\n",
        "    # instance variable. those variable for different for different object\n",
        "    self.__pin = \"\"\n",
        "    self.__balance = 0\n",
        "    self.sno = Atm.counter\n",
        "    Atm.counter = Atm.counter + 1\n",
        "\n",
        "    print(\"Welcome to our Atm Services\")\n",
        "\n",
        "    # self.__menu()\n",
        "    \n",
        "\n",
        "  def __menu(self):\n",
        "    user_input = input(\"\"\"Hello, How would you like to proceed further ?\n",
        "                        1. Enter 1 to create pin\n",
        "                        2. Enter 2 to deposit\n",
        "                        3. Enter 3 to withdraw\n",
        "                        4. Enter 4 to check balance\n",
        "                        5. Enter 5 to exit \\n\"\"\")\n",
        "    \n",
        "    if user_input == \"1\":\n",
        "      self.create_pin()\n",
        "    \n",
        "    elif user_input == \"2\":\n",
        "      self.deposit()\n",
        "\n",
        "    elif user_input == \"3\":\n",
        "      self.withdraw()\n",
        "\n",
        "    elif user_input == \"4\":\n",
        "      self.check_balance()\n",
        "    \n",
        "    else:\n",
        "      print(\"Thank you for using this Atm\")\n",
        "  \n",
        "  def create_pin(self):\n",
        "      self.__pin = input(\"Enter your Pin : \")\n",
        "      print(\"Pin Set Successfully\")\n",
        "      self.__menu()\n",
        "    \n",
        "  def deposit(self):\n",
        "      temp = input(\"Enter your pin : \")\n",
        "      if temp == self.__pin:\n",
        "        amount = int(input(\"Enter your amount for deposit : \"))\n",
        "        self.__balance = self.__balance + amount\n",
        "        print(\"Deposit Sucessfully in to your account\")\n",
        "      else:\n",
        "        print(\"Invalid pin\")\n",
        "      \n",
        "      self.__menu()\n",
        "    \n",
        "  def withdraw(self):\n",
        "      temp = input(\"Enter your pin : \")\n",
        "      if temp == self.__pin:\n",
        "        amount = int(input(\"Enter your amount for withdraw : \"))\n",
        "        if amount <= self.__balance:\n",
        "          self.__balance = self.__balance - amount\n",
        "          print(\"withdraw Sucessfully from your account\")\n",
        "        else:\n",
        "          (\"Insufficient amount for withdraw\")\n",
        "      else:\n",
        "        print(\"Invalid pin\")\n",
        "      \n",
        "      self.__menu()\n",
        "    \n",
        "  def check_balance(self):\n",
        "      temp = input(\"Enter your pin : \")\n",
        "      if temp == self.__pin:\n",
        "        print(\"Your Balance is : \", self.__balance)\n",
        "      else:\n",
        "        print(\"Invalid pin\")\n",
        "      \n",
        "      self.__menu()"
      ],
      "metadata": {
        "id": "pT-JRnDKXf9k"
      },
      "execution_count": null,
      "outputs": []
    },
    {
      "cell_type": "code",
      "source": [
        "# output of static / class variables\n",
        "c1 = Atm()\n",
        "c2 = Atm()\n",
        "c3 = Atm()"
      ],
      "metadata": {
        "colab": {
          "base_uri": "https://localhost:8080/"
        },
        "id": "Jf1qw8yFX6Az",
        "outputId": "49b30dc6-a02b-4f0f-c75f-9bc7aa7681e6"
      },
      "execution_count": null,
      "outputs": [
        {
          "output_type": "stream",
          "name": "stdout",
          "text": [
            "Welcome to our Atm Services\n",
            "Welcome to our Atm Services\n",
            "Welcome to our Atm Services\n"
          ]
        }
      ]
    },
    {
      "cell_type": "code",
      "source": [
        "#  print sno of each object\n",
        "print(c1.sno)\n",
        "print(c2.sno)\n",
        "print(c3.sno)"
      ],
      "metadata": {
        "colab": {
          "base_uri": "https://localhost:8080/"
        },
        "id": "JTPo-_q5YEIk",
        "outputId": "daaffa79-2677-4160-ed9d-60c63e1858c4"
      },
      "execution_count": null,
      "outputs": [
        {
          "output_type": "stream",
          "name": "stdout",
          "text": [
            "1\n",
            "2\n",
            "3\n"
          ]
        }
      ]
    },
    {
      "cell_type": "code",
      "source": [
        "# print counter of each object\n",
        "print(c1.counter)\n",
        "print(c2.counter)\n",
        "print(c3.counter)\n",
        "print(Atm.counter) # right way to print counter "
      ],
      "metadata": {
        "colab": {
          "base_uri": "https://localhost:8080/"
        },
        "id": "OPH6cb53YKY9",
        "outputId": "b5564dbb-f5bf-4c15-fac3-df2de3f98905"
      },
      "execution_count": null,
      "outputs": [
        {
          "output_type": "stream",
          "name": "stdout",
          "text": [
            "4\n",
            "4\n",
            "4\n",
            "4\n"
          ]
        }
      ]
    },
    {
      "cell_type": "code",
      "source": [
        "# Class\n",
        "class Atm:\n",
        "\n",
        "  # static / class variables\n",
        "  counter = 1\n",
        "\n",
        "  # constructor , magic method or dunder method\n",
        "  def __init__(self):\n",
        "    # instance variable. those variable for different for different object\n",
        "    self.__pin = \"\"\n",
        "    self.__balance = 0\n",
        "    self.sno = Atm.counter\n",
        "    Atm.__counter = Atm.__counter + 1\n",
        "\n",
        "    print(\"Welcome to our Atm Services\")\n",
        "\n",
        "    # self.__menu()\n",
        "\n",
        "\n",
        "  # class with static variable\n",
        "  @staticmethod\n",
        "  def get_counter():\n",
        "    return Atm.__counter\n",
        "  \n",
        "  @staticmethod\n",
        "  def set_counter(new):\n",
        "    if type(new) == int:\n",
        "      Atm.__counter == new\n",
        "      print(\"Set Counter\")\n",
        "    else:\n",
        "      print(\"Not Allowed\")\n",
        "    \n",
        "\n",
        "  def __menu(self):\n",
        "    user_input = input(\"\"\"Hello, How would you like to proceed further ?\n",
        "                        1. Enter 1 to create pin\n",
        "                        2. Enter 2 to deposit\n",
        "                        3. Enter 3 to withdraw\n",
        "                        4. Enter 4 to check balance\n",
        "                        5. Enter 5 to exit \\n\"\"\")\n",
        "    \n",
        "    if user_input == \"1\":\n",
        "      self.create_pin()\n",
        "    \n",
        "    elif user_input == \"2\":\n",
        "      self.deposit()\n",
        "\n",
        "    elif user_input == \"3\":\n",
        "      self.withdraw()\n",
        "\n",
        "    elif user_input == \"4\":\n",
        "      self.check_balance()\n",
        "    \n",
        "    else:\n",
        "      print(\"Thank you for using this Atm\")\n",
        "  \n",
        "  def create_pin(self):\n",
        "      self.__pin = input(\"Enter your Pin : \")\n",
        "      print(\"Pin Set Successfully\")\n",
        "      self.__menu()\n",
        "    \n",
        "  def deposit(self):\n",
        "      temp = input(\"Enter your pin : \")\n",
        "      if temp == self.__pin:\n",
        "        amount = int(input(\"Enter your amount for deposit : \"))\n",
        "        self.__balance = self.__balance + amount\n",
        "        print(\"Deposit Sucessfully in to your account\")\n",
        "      else:\n",
        "        print(\"Invalid pin\")\n",
        "      \n",
        "      self.__menu()\n",
        "    \n",
        "  def withdraw(self):\n",
        "      temp = input(\"Enter your pin : \")\n",
        "      if temp == self.__pin:\n",
        "        amount = int(input(\"Enter your amount for withdraw : \"))\n",
        "        if amount <= self.__balance:\n",
        "          self.__balance = self.__balance - amount\n",
        "          print(\"withdraw Sucessfully from your account\")\n",
        "        else:\n",
        "          (\"Insufficient amount for withdraw\")\n",
        "      else:\n",
        "        print(\"Invalid pin\")\n",
        "      \n",
        "      self.__menu()\n",
        "    \n",
        "  def check_balance(self):\n",
        "      temp = input(\"Enter your pin : \")\n",
        "      if temp == self.__pin:\n",
        "        print(\"Your Balance is : \", self.__balance)\n",
        "      else:\n",
        "        print(\"Invalid pin\")\n",
        "      \n",
        "      self.__menu()"
      ],
      "metadata": {
        "id": "7QfGq7iYbnoz"
      },
      "execution_count": null,
      "outputs": []
    },
    {
      "cell_type": "code",
      "source": [
        "# output static class\n",
        "c1  = Atm()"
      ],
      "metadata": {
        "colab": {
          "base_uri": "https://localhost:8080/",
          "height": 304
        },
        "id": "ji8R0mNab5oR",
        "outputId": "14a2bdea-25c8-43d4-d9af-ec509508862e"
      },
      "execution_count": null,
      "outputs": [
        {
          "output_type": "error",
          "ename": "AttributeError",
          "evalue": "ignored",
          "traceback": [
            "\u001b[0;31m---------------------------------------------------------------------------\u001b[0m",
            "\u001b[0;31mAttributeError\u001b[0m                            Traceback (most recent call last)",
            "\u001b[0;32m<ipython-input-39-5cd215a2585a>\u001b[0m in \u001b[0;36m<cell line: 2>\u001b[0;34m()\u001b[0m\n\u001b[1;32m      1\u001b[0m \u001b[0;31m# output static class\u001b[0m\u001b[0;34m\u001b[0m\u001b[0;34m\u001b[0m\u001b[0m\n\u001b[0;32m----> 2\u001b[0;31m \u001b[0mc1\u001b[0m  \u001b[0;34m=\u001b[0m \u001b[0mAtm\u001b[0m\u001b[0;34m(\u001b[0m\u001b[0;34m)\u001b[0m\u001b[0;34m\u001b[0m\u001b[0;34m\u001b[0m\u001b[0m\n\u001b[0m",
            "\u001b[0;32m<ipython-input-38-f3cd2280d4fc>\u001b[0m in \u001b[0;36m__init__\u001b[0;34m(self)\u001b[0m\n\u001b[1;32m     11\u001b[0m     \u001b[0mself\u001b[0m\u001b[0;34m.\u001b[0m\u001b[0m__balance\u001b[0m \u001b[0;34m=\u001b[0m \u001b[0;36m0\u001b[0m\u001b[0;34m\u001b[0m\u001b[0;34m\u001b[0m\u001b[0m\n\u001b[1;32m     12\u001b[0m     \u001b[0mself\u001b[0m\u001b[0;34m.\u001b[0m\u001b[0msno\u001b[0m \u001b[0;34m=\u001b[0m \u001b[0mAtm\u001b[0m\u001b[0;34m.\u001b[0m\u001b[0mcounter\u001b[0m\u001b[0;34m\u001b[0m\u001b[0;34m\u001b[0m\u001b[0m\n\u001b[0;32m---> 13\u001b[0;31m     \u001b[0mAtm\u001b[0m\u001b[0;34m.\u001b[0m\u001b[0m__counter\u001b[0m \u001b[0;34m=\u001b[0m \u001b[0mAtm\u001b[0m\u001b[0;34m.\u001b[0m\u001b[0m__counter\u001b[0m \u001b[0;34m+\u001b[0m \u001b[0;36m1\u001b[0m\u001b[0;34m\u001b[0m\u001b[0;34m\u001b[0m\u001b[0m\n\u001b[0m\u001b[1;32m     14\u001b[0m \u001b[0;34m\u001b[0m\u001b[0m\n\u001b[1;32m     15\u001b[0m     \u001b[0mprint\u001b[0m\u001b[0;34m(\u001b[0m\u001b[0;34m\"Welcome to our Atm Services\"\u001b[0m\u001b[0;34m)\u001b[0m\u001b[0;34m\u001b[0m\u001b[0;34m\u001b[0m\u001b[0m\n",
            "\u001b[0;31mAttributeError\u001b[0m: type object 'Atm' has no attribute '_Atm__counter'"
          ]
        }
      ]
    },
    {
      "cell_type": "markdown",
      "source": [
        "# **OOP - Aggregation**"
      ],
      "metadata": {
        "id": "IS6vUAIXrBOO"
      }
    },
    {
      "cell_type": "code",
      "source": [
        "# customer class\n",
        "class Customer:\n",
        "\n",
        "  def __init__(self, name, gender, address):\n",
        "    self.name = name\n",
        "    self.gender = gender\n",
        "    self.address = address\n",
        "  \n",
        "  def edit_profile(self, new_name, new_city, new_pin, new_state):\n",
        "    self.name = new_name\n",
        "    self.address.change_address(new_city, new_pin, new_state)\n",
        "\n",
        "# address class\n",
        "class Address:\n",
        "\n",
        "  def __init__(self, city, pin, state):\n",
        "    self.city = city\n",
        "    self.pin = pin\n",
        "    self.state = state\n",
        "  \n",
        "  def change_address(self, new_city, new_pin, new_state):\n",
        "    self.new_city = new_city\n",
        "    self.new_pin = new_pin\n",
        "    self.new_state = new_state"
      ],
      "metadata": {
        "id": "tHdnXu6JcRi8"
      },
      "execution_count": null,
      "outputs": []
    },
    {
      "cell_type": "code",
      "source": [
        "# c1 address object\n",
        "c1_add = Address(\"Shikarpur\", 72850, \"Sindh\")\n",
        "\n",
        "# c1 object\n",
        "c1 = Customer(\"Hamid\", \"Male\", c1_add)\n",
        "print(\"Name : \", c1.name)\n",
        "print(\"Gender : \", c1.gender)\n",
        "print(\"City : \", c1.address.city)"
      ],
      "metadata": {
        "colab": {
          "base_uri": "https://localhost:8080/"
        },
        "id": "mCDHYroUs1aL",
        "outputId": "e4da78df-950d-4886-c058-765d03c7e1e8"
      },
      "execution_count": null,
      "outputs": [
        {
          "output_type": "stream",
          "name": "stdout",
          "text": [
            "Name :  Hamid\n",
            "Gender :  Male\n",
            "City :  Shikarpur\n"
          ]
        }
      ]
    },
    {
      "cell_type": "code",
      "source": [
        "c1.edit_profile(\"Hamid Raza\", \"Shikarpur\", \"72850\", \"Larkana, Sindh\")\n",
        "print(\"Name : \", c1.name)\n",
        "print(\"Gender : \", c1.gender)\n",
        "print(\"City : \", c1.address.new_city)\n",
        "print(\"Postal code : \", c1.address.new_pin)\n",
        "print(\"State : \", c1.address.new_state)"
      ],
      "metadata": {
        "colab": {
          "base_uri": "https://localhost:8080/"
        },
        "id": "xAGSF5VAtcwv",
        "outputId": "a3c5e200-5272-4a76-f9ee-df8d5ee2c1e8"
      },
      "execution_count": null,
      "outputs": [
        {
          "output_type": "stream",
          "name": "stdout",
          "text": [
            "Name :  Hamid Raza\n",
            "Gender :  Male\n",
            "City :  Shikarpur\n",
            "Postal code :  72850\n",
            "State :  Larkana, Sindh\n"
          ]
        }
      ]
    },
    {
      "cell_type": "markdown",
      "source": [
        "# **Inheritance Example**"
      ],
      "metadata": {
        "id": "g7wHsGpGQ3XP"
      }
    },
    {
      "cell_type": "code",
      "source": [
        "# user class (parent)\n",
        "class User:\n",
        "\n",
        "\n",
        "  def register(self):\n",
        "      print(\"Register\")\n",
        "\n",
        "  def login(self):\n",
        "    print(\"Login\")\n",
        "\n",
        "# student class (child)\n",
        "class Student(User):\n",
        "\n",
        "  def enroll(self):\n",
        "    print(\"Enroll\")\n",
        "  \n",
        "  def review(self):\n",
        "    print(\"Review\")"
      ],
      "metadata": {
        "id": "jSc3XfYYQ69L"
      },
      "execution_count": null,
      "outputs": []
    },
    {
      "cell_type": "code",
      "source": [
        "# output\n",
        "std1 = Student()\n",
        "\n",
        "std1.register()\n",
        "std1.login()\n",
        "std1.enroll()\n",
        "std1.review()"
      ],
      "metadata": {
        "colab": {
          "base_uri": "https://localhost:8080/"
        },
        "id": "RnLiSxduSjtt",
        "outputId": "52bc8853-f29f-4b36-8195-ebd10cd775b2"
      },
      "execution_count": null,
      "outputs": [
        {
          "output_type": "stream",
          "name": "stdout",
          "text": [
            "Register\n",
            "Login\n",
            "Enroll\n",
            "Review\n"
          ]
        }
      ]
    },
    {
      "cell_type": "markdown",
      "source": [
        "# **Example 2 phone class**"
      ],
      "metadata": {
        "id": "lCuMaKQmVGFN"
      }
    },
    {
      "cell_type": "code",
      "source": [
        "# phone class\n",
        "class Phone:\n",
        "\n",
        "  # constructor\n",
        "  def __init__(self, brand, price, color):\n",
        "    self.brand = brand\n",
        "    self.__price = price\n",
        "    self.color = color\n",
        "\n",
        "class SmartPhone(Phone):\n",
        "  pass"
      ],
      "metadata": {
        "id": "Kgu85Y7vS9PB"
      },
      "execution_count": null,
      "outputs": []
    },
    {
      "cell_type": "code",
      "source": [
        "# output\n",
        "phone = SmartPhone(\"Huawei\", 10000, \"Red\")\n",
        "print(phone.brand)\n",
        "print(phone.color)\n",
        "# print(phone.__price) child class can not inherit the private attribute of parent class"
      ],
      "metadata": {
        "colab": {
          "base_uri": "https://localhost:8080/"
        },
        "id": "rjj7Bhf-V1-v",
        "outputId": "73d49510-01b5-402f-c862-17f0ad17c998"
      },
      "execution_count": null,
      "outputs": [
        {
          "output_type": "stream",
          "name": "stdout",
          "text": [
            "Huawei\n",
            "Red\n"
          ]
        }
      ]
    },
    {
      "cell_type": "code",
      "source": [],
      "metadata": {
        "id": "WTEhzWOq6lIL"
      },
      "execution_count": null,
      "outputs": []
    },
    {
      "cell_type": "markdown",
      "source": [
        "# **Polymorphism - Method - Overriding**"
      ],
      "metadata": {
        "id": "LcoN36w7aLaP"
      }
    },
    {
      "cell_type": "code",
      "source": [
        "# phone class\n",
        "class Phone:\n",
        "\n",
        "  # constructor\n",
        "  def __init__(self, brand, price, color):\n",
        "    self.brand = brand\n",
        "    self.__price = price\n",
        "    self.color = color\n",
        "  \n",
        "  # method\n",
        "  def buy(self):\n",
        "    print(\"Buy a Phone\")\n",
        "\n",
        "class SmartPhone(Phone):\n",
        "  \n",
        "  # method\n",
        "  def buy(self):\n",
        "    print(\"Buy a Smart Phone\")"
      ],
      "metadata": {
        "id": "EDO-cQKWWRe7"
      },
      "execution_count": null,
      "outputs": []
    },
    {
      "cell_type": "code",
      "source": [
        "# output\n",
        "phone = SmartPhone(\"Huawei\", 10000, \"Red\")\n",
        "print(phone.brand)\n",
        "print(phone.color)\n",
        "print(phone.buy()) # method overriding"
      ],
      "metadata": {
        "colab": {
          "base_uri": "https://localhost:8080/"
        },
        "id": "O_lvv-SSay0u",
        "outputId": "95b4a845-5482-427e-fbc2-7cf8adcb5635"
      },
      "execution_count": null,
      "outputs": [
        {
          "output_type": "stream",
          "name": "stdout",
          "text": [
            "Huawei\n",
            "Red\n",
            "Buy a Smart Phone\n",
            "None\n"
          ]
        }
      ]
    },
    {
      "cell_type": "markdown",
      "source": [
        "# **Example - 2**"
      ],
      "metadata": {
        "id": "jDWW5XBgcJ_L"
      }
    },
    {
      "cell_type": "code",
      "source": [
        "# parent class\n",
        "class Parent:\n",
        "\n",
        "  def __init__(self, num):\n",
        "    self.__num = num\n",
        "  \n",
        "  def get_num(self):\n",
        "    return self.__num\n",
        "\n",
        "class Child(Parent):\n",
        "\n",
        "  def show(self):\n",
        "    print(\"this is the child class\")"
      ],
      "metadata": {
        "id": "JkhN0ODlcHEg"
      },
      "execution_count": null,
      "outputs": []
    },
    {
      "cell_type": "code",
      "source": [
        "# output\n",
        "ch = Child(160)\n",
        "\n",
        "print(ch.get_num())\n",
        "print(ch.show())"
      ],
      "metadata": {
        "colab": {
          "base_uri": "https://localhost:8080/"
        },
        "id": "kuzAl4ZBc4Nx",
        "outputId": "c4d32954-8ece-4dcf-a917-1700f80a3a87"
      },
      "execution_count": null,
      "outputs": [
        {
          "output_type": "stream",
          "name": "stdout",
          "text": [
            "160\n",
            "this is the child class\n",
            "None\n"
          ]
        }
      ]
    },
    {
      "cell_type": "markdown",
      "source": [
        "# **Example -3**"
      ],
      "metadata": {
        "id": "Fjqu2rK2qvPj"
      }
    },
    {
      "cell_type": "code",
      "source": [
        "# parent class\n",
        "class Parent:\n",
        "\n",
        "  def __init__(self, num):\n",
        "    self.__num = num\n",
        "  \n",
        "  def get_num(self):\n",
        "    return self.__num\n",
        "\n",
        "class Child(Parent):\n",
        "\n",
        "  def __init__(self, val, num):\n",
        "    self.__val = val\n",
        "\n",
        "    def get_val(self):\n",
        "      return self.__val"
      ],
      "metadata": {
        "id": "dBzeFwiyq1P4"
      },
      "execution_count": null,
      "outputs": []
    },
    {
      "cell_type": "code",
      "source": [
        "ch = Child(10, 100)\n",
        "\n",
        "print(ch.get_num()) # error throw"
      ],
      "metadata": {
        "id": "HkOaaeAcsQr7"
      },
      "execution_count": null,
      "outputs": []
    },
    {
      "cell_type": "markdown",
      "source": [
        "# **Example - 4**"
      ],
      "metadata": {
        "id": "sSbRdZ-ptIcd"
      }
    },
    {
      "cell_type": "code",
      "source": [
        "# A class\n",
        "class A:\n",
        "\n",
        "  def __init__(self):\n",
        "    self.var1 = 100\n",
        "\n",
        "  def disp1(self,var1):\n",
        "    print(self.var1)\n",
        "\n",
        "# B class\n",
        "class B(A):\n",
        "\n",
        "  def disp2(self,var1):\n",
        "    print(self.var1)"
      ],
      "metadata": {
        "id": "M7BtYvX3srMa"
      },
      "execution_count": null,
      "outputs": []
    },
    {
      "cell_type": "code",
      "source": [
        "# output\n",
        "b = B()\n",
        "b.disp1(20)"
      ],
      "metadata": {
        "colab": {
          "base_uri": "https://localhost:8080/"
        },
        "id": "CZfy_iXFuCUB",
        "outputId": "5bba6676-ffdb-4460-a3b1-dbb888c3ff05"
      },
      "execution_count": null,
      "outputs": [
        {
          "output_type": "stream",
          "name": "stdout",
          "text": [
            "100\n"
          ]
        }
      ]
    },
    {
      "cell_type": "markdown",
      "source": [
        "# **Super - Keyword - method - invoke - Example - 1**"
      ],
      "metadata": {
        "id": "frRVIMbouVfz"
      }
    },
    {
      "cell_type": "code",
      "source": [
        "# phone class\n",
        "class Phone:\n",
        "\n",
        "  # constructor\n",
        "  def __init__(self, brand, price, color):\n",
        "    self.brand = brand\n",
        "    self.__price = price\n",
        "    self.color = color\n",
        "  \n",
        "  # method\n",
        "  def buy(self):\n",
        "    print(\"Buy a Phone\")\n",
        "\n",
        "class SmartPhone(Phone):\n",
        "  \n",
        "  # method\n",
        "  def buy(self):\n",
        "    # parent method invoke using super keyword\n",
        "    super().buy()\n",
        "    print(\"Buy a Smart Phone\")"
      ],
      "metadata": {
        "id": "TNbOPxNaubla"
      },
      "execution_count": null,
      "outputs": []
    },
    {
      "cell_type": "code",
      "source": [
        "# output\n",
        "phone = SmartPhone(\"Huawei\", 10000, \"Red\")\n",
        "print(phone.brand)\n",
        "print(phone.color)\n",
        "print(phone.buy()) # method overriding and super invoke the parent buy method"
      ],
      "metadata": {
        "colab": {
          "base_uri": "https://localhost:8080/"
        },
        "id": "ifHh3SEnva4t",
        "outputId": "9249754d-b5a3-4c0d-d070-fe0cfe61321a"
      },
      "execution_count": null,
      "outputs": [
        {
          "output_type": "stream",
          "name": "stdout",
          "text": [
            "Huawei\n",
            "Red\n",
            "Buy a Phone\n",
            "Buy a Smart Phone\n",
            "None\n"
          ]
        }
      ]
    },
    {
      "cell_type": "markdown",
      "source": [
        "# **Super - Keyword - constructor - invoke - Example - 2**"
      ],
      "metadata": {
        "id": "E-8y5zwVwZMm"
      }
    },
    {
      "cell_type": "code",
      "source": [
        "# phone class\n",
        "class Phone:\n",
        "\n",
        "  # parent constructor\n",
        "  def __init__(self, brand, price, camera):\n",
        "    self.brand = brand\n",
        "    self.__price = price\n",
        "    self.camera = camera\n",
        "\n",
        "\n",
        "class SmartPhone(Phone):\n",
        "\n",
        "  # child constructor\n",
        "  def __init__(self, brand, price, camera, os, ram):\n",
        "    print(\"parent constructor invoke with super keyword inside the child class\")\n",
        "    super().__init__(brand, price, camera)\n",
        "    self.os = os\n",
        "    self.ram = ram\n",
        "    print(\"Child constructor invoke\")\n",
        "\n"
      ],
      "metadata": {
        "id": "sdppfUR0wYuy"
      },
      "execution_count": null,
      "outputs": []
    },
    {
      "cell_type": "code",
      "source": [
        "# output\n",
        "phone = SmartPhone(\"Redmi\", 20000, \"Black\", \"Android\", 4)\n",
        "print(phone.brand)\n",
        "print(phone.os)"
      ],
      "metadata": {
        "colab": {
          "base_uri": "https://localhost:8080/"
        },
        "id": "Y7ajhS8Oxj3z",
        "outputId": "a738f134-c6b0-4bc1-f812-66a69f19821e"
      },
      "execution_count": null,
      "outputs": [
        {
          "output_type": "stream",
          "name": "stdout",
          "text": [
            "parent constructor invoke with super keyword inside the child class\n",
            "Child constructor invoke\n",
            "Redmi\n",
            "Android\n"
          ]
        }
      ]
    },
    {
      "cell_type": "markdown",
      "source": [
        "# **Example - 3**"
      ],
      "metadata": {
        "id": "GNgUsRSNyuuM"
      }
    },
    {
      "cell_type": "code",
      "source": [
        "# parent class\n",
        "class Parent:\n",
        "\n",
        "  def __init__(self, num):\n",
        "    self.__num = num\n",
        "  \n",
        "  def get_num(self):\n",
        "    return self.__num\n",
        "\n",
        "class Child(Parent):\n",
        "\n",
        "  def __init__(self, num, val):\n",
        "    super().__init__(num)\n",
        "    self.__val = val\n",
        "\n",
        "  def get_val(self):\n",
        "    return self.__val"
      ],
      "metadata": {
        "id": "JE8pDyXFyx6j"
      },
      "execution_count": null,
      "outputs": []
    },
    {
      "cell_type": "code",
      "source": [
        "# output\n",
        "ch = Child(100, 10)\n",
        "\n",
        "print(ch.get_num()) \n",
        "print(ch.get_val())"
      ],
      "metadata": {
        "colab": {
          "base_uri": "https://localhost:8080/"
        },
        "id": "_M97Kz7CzEf2",
        "outputId": "76166124-1762-4c59-fbb4-5588bfa1b58c"
      },
      "execution_count": null,
      "outputs": [
        {
          "output_type": "stream",
          "name": "stdout",
          "text": [
            "100\n",
            "10\n"
          ]
        }
      ]
    },
    {
      "cell_type": "markdown",
      "source": [
        "# **Example - 4**"
      ],
      "metadata": {
        "id": "2ud3JtyJ1FZ8"
      }
    },
    {
      "cell_type": "code",
      "source": [
        "# parent class\n",
        "class Parent:\n",
        "\n",
        "  def __init__(self):\n",
        "    self.num = 200\n",
        "  \n",
        "  def get_num(self):\n",
        "    return self.num\n",
        "\n",
        "class Child(Parent):\n",
        "\n",
        "  def __init__(self):\n",
        "    super().__init__()\n",
        "    self.val = 400\n",
        "\n",
        "  def show(self):\n",
        "    print(self.num)\n",
        "    print(self.val)"
      ],
      "metadata": {
        "id": "Sc3C3vG51EiO"
      },
      "execution_count": null,
      "outputs": []
    },
    {
      "cell_type": "code",
      "source": [
        "# output\n",
        "ch = Child()\n",
        "\n",
        "print(ch.show()) \n"
      ],
      "metadata": {
        "colab": {
          "base_uri": "https://localhost:8080/"
        },
        "id": "jD03dkv91im-",
        "outputId": "fe0414a6-329f-4ffc-ddb8-d3eb84ce69e7"
      },
      "execution_count": null,
      "outputs": [
        {
          "output_type": "stream",
          "name": "stdout",
          "text": [
            "200\n",
            "400\n",
            "None\n"
          ]
        }
      ]
    },
    {
      "cell_type": "markdown",
      "source": [
        "# **Example - 5**"
      ],
      "metadata": {
        "id": "jeWkGRBx2sCn"
      }
    },
    {
      "cell_type": "code",
      "source": [
        "# parent class\n",
        "class Parent:\n",
        "\n",
        "  def __init__(self):\n",
        "    self.num = 200\n",
        "  \n",
        "  def show(self):\n",
        "    print(\"Parent : \", self.num)\n",
        "\n",
        "class Child(Parent):\n",
        "\n",
        "  def __init__(self):\n",
        "    super().__init__()\n",
        "    self.val = 400\n",
        "\n",
        "  def show(self):\n",
        "    print(\"Child : \", self.val)"
      ],
      "metadata": {
        "id": "eU_ok6UY1nkX"
      },
      "execution_count": null,
      "outputs": []
    },
    {
      "cell_type": "code",
      "source": [
        "# output\n",
        "par = Parent()\n",
        "ch = Child()\n",
        "\n",
        "print(par.show())\n",
        "print(ch.show())"
      ],
      "metadata": {
        "colab": {
          "base_uri": "https://localhost:8080/"
        },
        "id": "cJiveVBS3GC_",
        "outputId": "1ec21015-2c54-4085-81ea-c66815cb6eb1"
      },
      "execution_count": null,
      "outputs": [
        {
          "output_type": "stream",
          "name": "stdout",
          "text": [
            "Parent :  200\n",
            "None\n",
            "Child :  400\n",
            "None\n"
          ]
        }
      ]
    },
    {
      "cell_type": "markdown",
      "source": [
        "# **Types of Inheritance - Single - Level - Example - 1**"
      ],
      "metadata": {
        "id": "8bdunIUJ6Gyr"
      }
    },
    {
      "cell_type": "code",
      "source": [
        "# phone class\n",
        "class Phone:\n",
        "\n",
        "  # constructor\n",
        "  def __init__(self, brand, price, color):\n",
        "    self.brand = brand\n",
        "    self.__price = price\n",
        "    self.color = color\n",
        "\n",
        "  def buy(self):\n",
        "    print(\"buy a Phone\")\n",
        "\n",
        "class SmartPhone(Phone):\n",
        "  pass"
      ],
      "metadata": {
        "id": "pw3TjWU36PK1"
      },
      "execution_count": null,
      "outputs": []
    },
    {
      "cell_type": "code",
      "source": [
        "# output\n",
        "phone = SmartPhone(\"Huawei\", 10000, \"Red\").buy()\n",
        "print(phone)"
      ],
      "metadata": {
        "colab": {
          "base_uri": "https://localhost:8080/"
        },
        "id": "prhS4HNd6m_a",
        "outputId": "2baaa766-2dd0-405e-c884-770458802d9d"
      },
      "execution_count": null,
      "outputs": [
        {
          "output_type": "stream",
          "name": "stdout",
          "text": [
            "buy a Phone\n",
            "None\n"
          ]
        }
      ]
    },
    {
      "cell_type": "markdown",
      "source": [
        "# **Multi - Level - Inheritance - Example**"
      ],
      "metadata": {
        "id": "gE-104nu8Fq3"
      }
    },
    {
      "cell_type": "code",
      "source": [
        "class Product:\n",
        "\n",
        "  def review(self):\n",
        "    print(\"Phone Customer Feedback\")\n",
        "\n",
        "# phone class\n",
        "class Phone(Product):\n",
        "\n",
        "  # constructor\n",
        "  def __init__(self, brand, price, color):\n",
        "    self.brand = brand\n",
        "    self.__price = price\n",
        "    self.color = color\n",
        "\n",
        "  def buy(self):\n",
        "    print(\"buy a Phone\")\n",
        "\n",
        "class SmartPhone(Phone):\n",
        "  pass"
      ],
      "metadata": {
        "id": "v5hb5Dv-6rUy"
      },
      "execution_count": null,
      "outputs": []
    },
    {
      "cell_type": "code",
      "source": [
        "# output\n",
        "# output\n",
        "phone = Phone(\"Redmmi\", 10000, \"White\")\n",
        "s_phone = SmartPhone(\"Huawei\", 20000, \"Red\")\n",
        "\n",
        "print(phone.review())\n",
        "print(s_phone.buy())\n",
        "print(s_phone.review())"
      ],
      "metadata": {
        "colab": {
          "base_uri": "https://localhost:8080/"
        },
        "id": "hZ-bNXzA9c31",
        "outputId": "e0ae33b4-6e7e-44ee-ce0d-8b463c42960e"
      },
      "execution_count": null,
      "outputs": [
        {
          "output_type": "stream",
          "name": "stdout",
          "text": [
            "Phone Customer Feedback\n",
            "None\n",
            "buy a Phone\n",
            "None\n",
            "Phone Customer Feedback\n",
            "None\n"
          ]
        }
      ]
    },
    {
      "cell_type": "markdown",
      "source": [
        "# **Hierarchical - Inheritance - Example**"
      ],
      "metadata": {
        "id": "kWNHy8l2-2n3"
      }
    },
    {
      "cell_type": "code",
      "source": [
        "# phone class\n",
        "class Phone:\n",
        "\n",
        "  # constructor\n",
        "  def __init__(self, brand, price, color):\n",
        "    self.brand = brand\n",
        "    self.__price = price\n",
        "    self.color = color\n",
        "\n",
        "  def buy(self):\n",
        "    print(\"buy a Phone\")\n",
        "\n",
        "class SmartPhone(Phone):\n",
        "  pass\n",
        "\n",
        "class FeaturePhone(Phone):\n",
        "  pass"
      ],
      "metadata": {
        "id": "CWs9MBQy_C4k"
      },
      "execution_count": null,
      "outputs": []
    },
    {
      "cell_type": "code",
      "source": [
        "# output\n",
        "s_phone = SmartPhone(\"LG\", 5000, \"Golden\")\n",
        "f_phone = FeaturePhone(\"Motrola\", 10000, \"Black\")\n",
        "\n",
        "print(s_phone.buy())\n",
        "print(f_phone.buy())"
      ],
      "metadata": {
        "colab": {
          "base_uri": "https://localhost:8080/"
        },
        "id": "t0u3Ias7_pCj",
        "outputId": "e339b3a1-f859-40b2-ec17-79f936b8631e"
      },
      "execution_count": null,
      "outputs": [
        {
          "output_type": "stream",
          "name": "stdout",
          "text": [
            "buy a Phone\n",
            "None\n",
            "buy a Phone\n",
            "None\n"
          ]
        }
      ]
    },
    {
      "cell_type": "markdown",
      "source": [
        "# **Multiple - Inheritance - Example**"
      ],
      "metadata": {
        "id": "L1Z_rAMWBJ-l"
      }
    },
    {
      "cell_type": "code",
      "source": [
        "# phone class\n",
        "class Phone:\n",
        "\n",
        "  # constructor\n",
        "  def __init__(self, brand, price, color):\n",
        "    self.brand = brand\n",
        "    self.__price = price\n",
        "    self.color = color\n",
        "\n",
        "  def buy(self):\n",
        "    print(\"buy a Phone\")\n",
        "\n",
        "class Product:\n",
        "  def review(self):\n",
        "    print(\"Customer Feedback\")\n",
        "\n",
        "class SmartPhone(Phone, Product):\n",
        "  pass"
      ],
      "metadata": {
        "id": "7DxKCVqiBTEp"
      },
      "execution_count": null,
      "outputs": []
    },
    {
      "cell_type": "code",
      "source": [
        "# output\n",
        "s_phone = SmartPhone(\"LG\", 5000, \"Golden\")\n",
        "print(s_phone.buy())\n",
        "print(s_phone.review())"
      ],
      "metadata": {
        "colab": {
          "base_uri": "https://localhost:8080/"
        },
        "id": "1KJhd2d8CR4d",
        "outputId": "669a44f2-25b9-40fa-8480-c0538e39201d"
      },
      "execution_count": null,
      "outputs": [
        {
          "output_type": "stream",
          "name": "stdout",
          "text": [
            "buy a Phone\n",
            "None\n",
            "Customer Feedback\n",
            "None\n"
          ]
        }
      ]
    },
    {
      "cell_type": "markdown",
      "source": [
        "# **Example - 2**"
      ],
      "metadata": {
        "id": "vzk7kwQBCxsb"
      }
    },
    {
      "cell_type": "code",
      "source": [
        "# phone class\n",
        "class Phone:\n",
        "\n",
        "  # constructor\n",
        "  def __init__(self, brand, price, color):\n",
        "    self.brand = brand\n",
        "    self.__price = price\n",
        "    self.color = color\n",
        "\n",
        "  def buy(self):\n",
        "    print(\"Buy a Phone\")\n",
        "\n",
        "class Product:\n",
        "\n",
        "  def review(self):\n",
        "    print(\"Customer Feedback\")\n",
        "\n",
        "  def buy(self):\n",
        "    print(\"Product buy Method\")\n",
        "\n",
        "class SmartPhone(Product, Phone):\n",
        "  pass"
      ],
      "metadata": {
        "id": "YnbyOV9QDQgj"
      },
      "execution_count": null,
      "outputs": []
    },
    {
      "cell_type": "code",
      "source": [
        "# output. MRO - method - resolution - order\n",
        "s_phone = SmartPhone(\"LG\", 5000, \"Golden\")\n",
        "print(s_phone.buy())\n",
        "print(s_phone.review())"
      ],
      "metadata": {
        "colab": {
          "base_uri": "https://localhost:8080/"
        },
        "id": "0_BpcKSvDq-E",
        "outputId": "b1269246-0c62-4ce4-a08a-f4eb7719a228"
      },
      "execution_count": null,
      "outputs": [
        {
          "output_type": "stream",
          "name": "stdout",
          "text": [
            "Product buy Method\n",
            "None\n",
            "Customer Feedback\n",
            "None\n"
          ]
        }
      ]
    },
    {
      "cell_type": "markdown",
      "source": [
        "# **Example - 3**"
      ],
      "metadata": {
        "id": "3bSuCT8ZEZ_o"
      }
    },
    {
      "cell_type": "code",
      "source": [
        "class A:\n",
        "\n",
        "  def m1(self):\n",
        "    return 20\n",
        "\n",
        "class B(A):\n",
        "\n",
        "  def m1(self):\n",
        "    return 30\n",
        "  \n",
        "  def m2(self):\n",
        "    return 40\n",
        "\n",
        "class C(B):\n",
        "\n",
        "  def m2(self):\n",
        "    return 60\n",
        "  \n",
        "  def m3(self):\n",
        "    return 80"
      ],
      "metadata": {
        "id": "lrT_n-BREeLH"
      },
      "execution_count": null,
      "outputs": []
    },
    {
      "cell_type": "code",
      "source": [
        "# output\n",
        "a = A()\n",
        "b = B()\n",
        "c = C()\n",
        "\n",
        "print(a.m1() + c.m1() + b.m2())"
      ],
      "metadata": {
        "colab": {
          "base_uri": "https://localhost:8080/"
        },
        "id": "hInu1-PcFMTq",
        "outputId": "4ba3a890-4f4e-46cc-9cd5-0075a8cfbdcc"
      },
      "execution_count": null,
      "outputs": [
        {
          "output_type": "stream",
          "name": "stdout",
          "text": [
            "90\n"
          ]
        }
      ]
    },
    {
      "cell_type": "markdown",
      "source": [
        "# **Example - 4**"
      ],
      "metadata": {
        "id": "pVpYBlVYGTz2"
      }
    },
    {
      "cell_type": "code",
      "source": [
        "class A:\n",
        "\n",
        "  def m1(self):\n",
        "    return 20\n",
        "\n",
        "class B(A):\n",
        "\n",
        "  def m1(self):\n",
        "    val = super().m1() + 30\n",
        "    return val\n",
        "\n",
        "class C(B):\n",
        "  \n",
        "  def m1(self):\n",
        "    val = self.m1() + 30\n",
        "    return val"
      ],
      "metadata": {
        "id": "iRVaogGGGgOS"
      },
      "execution_count": null,
      "outputs": []
    },
    {
      "cell_type": "code",
      "source": [
        "# output\n",
        "b = B()\n",
        "print(b.m1())\n",
        "\n",
        "c = C()\n",
        "# print(c.m1()) throw error because recursion"
      ],
      "metadata": {
        "colab": {
          "base_uri": "https://localhost:8080/"
        },
        "id": "nP_2RZKrHZzC",
        "outputId": "28939d25-507d-42a0-b310-f3597c426918"
      },
      "execution_count": null,
      "outputs": [
        {
          "output_type": "stream",
          "name": "stdout",
          "text": [
            "50\n"
          ]
        }
      ]
    },
    {
      "cell_type": "markdown",
      "source": [
        "# **PolyMorphism - Method - Overloading - Technically Not Use but Use Smartly - Example - 1**"
      ],
      "metadata": {
        "id": "MADDBUL1MThB"
      }
    },
    {
      "cell_type": "code",
      "source": [
        "class Geometry:\n",
        "\n",
        "  def area(self, a, b=0):\n",
        "    if b == 0:\n",
        "      print(\"Circle : \", 3.14 * a * a)\n",
        "    else :\n",
        "      print(\"Rectangle : \", a * b)"
      ],
      "metadata": {
        "id": "33JNYPNKMnEn"
      },
      "execution_count": 61,
      "outputs": []
    },
    {
      "cell_type": "code",
      "source": [
        "# output\n",
        "met = Geometry()\n",
        "\n",
        "print(met.area(4))\n",
        "print(met.area(4, 5))"
      ],
      "metadata": {
        "colab": {
          "base_uri": "https://localhost:8080/"
        },
        "id": "Kjxq_Y2hNGLf",
        "outputId": "c93c9fdf-4aaf-423b-d0a5-0620395c4ba0"
      },
      "execution_count": 63,
      "outputs": [
        {
          "output_type": "stream",
          "name": "stdout",
          "text": [
            "Circle :  50.24\n",
            "None\n",
            "Rectangle :  20\n",
            "None\n"
          ]
        }
      ]
    },
    {
      "cell_type": "markdown",
      "source": [
        "# **Operator - OverLoading - Method - Example - 1 - Using Magic - Methods**"
      ],
      "metadata": {
        "id": "-9iLWHXwVHDK"
      }
    },
    {
      "cell_type": "code",
      "source": [
        "# fracton class use for operator overloading method using magic method __add__\n",
        "x = Fraction(2, 5)\n",
        "y = Fraction(8, 10)\n",
        "print(x + y)"
      ],
      "metadata": {
        "colab": {
          "base_uri": "https://localhost:8080/"
        },
        "id": "9ZLnSYVBVSQW",
        "outputId": "733dcdff-d833-46f5-ca1c-080f21823695"
      },
      "execution_count": 65,
      "outputs": [
        {
          "output_type": "stream",
          "name": "stdout",
          "text": [
            "60/40\n"
          ]
        }
      ]
    }
  ]
}